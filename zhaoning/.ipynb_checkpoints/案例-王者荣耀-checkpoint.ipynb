{
 "cells": [
  {
   "cell_type": "code",
   "execution_count": 18,
   "id": "4f169109",
   "metadata": {
    "scrolled": true
   },
   "outputs": [],
   "source": [
    "import pandas as pd\n",
    "import numpy as np\n",
    "import matplotlib\n",
    "matplotlib.rcParams['font.sans-serif'] = ['SimHei']\n",
    "matplotlib.rcParams['font.family']='sans-serif'\n",
    "\n",
    "df=pd.read_csv('./hero.csv')"
   ]
  },
  {
   "cell_type": "code",
   "execution_count": 32,
   "id": "a1fdc2ff",
   "metadata": {},
   "outputs": [
    {
     "data": {
      "text/plain": [
       "<AxesSubplot:xlabel='hero_type'>"
      ]
     },
     "execution_count": 32,
     "metadata": {},
     "output_type": "execute_result"
    },
    {
     "data": {
      "image/png": "[encoded data removed]",
      "text/plain": [
       "<Figure size 432x288 with 1 Axes>"
      ]
     },
     "metadata": {
      "needs_background": "light"
     },
     "output_type": "display_data"
    }
   ],
   "source": [
    "# 1. 英雄统计，绘制柱状图\n",
    "hero_type_df_groupby = df.groupby([\"hero_type\"])\n",
    "hero_type_df_ser = hero_type_df_groupby.size().cumsum()\n",
    "hero_type_df_ser.plot(kind='bar')"
   ]
  },
  {
   "cell_type": "code",
   "execution_count": 51,
   "id": "6b8efe1a",
   "metadata": {},
   "outputs": [
    {
     "data": {
      "text/html": [
       "<div>\n",
       "<style scoped>\n",
       "    .dataframe tbody tr th:only-of-type {\n",
       "        vertical-align: middle;\n",
       "    }\n",
       "\n",
       "    .dataframe tbody tr th {\n",
       "        vertical-align: top;\n",
       "    }\n",
       "\n",
       "    .dataframe thead th {\n",
       "        text-align: right;\n",
       "    }\n",
       "</style>\n",
       "<table border=\"1\" class=\"dataframe\">\n",
       "  <thead>\n",
       "    <tr style=\"text-align: right;\">\n",
       "      <th></th>\n",
       "      <th></th>\n",
       "      <th>hero_name</th>\n",
       "      <th>hero_type</th>\n",
       "      <th>hero_price</th>\n",
       "      <th>hero_pos</th>\n",
       "      <th>hero_attr_live</th>\n",
       "      <th>hero_attr_attack</th>\n",
       "      <th>hero_attr_ability</th>\n",
       "      <th>hero_attr_difficulty</th>\n",
       "      <th>max_life</th>\n",
       "      <th>max_power</th>\n",
       "      <th>...</th>\n",
       "      <th>attack_speed</th>\n",
       "      <th>critical_hit</th>\n",
       "      <th>critical_effect</th>\n",
       "      <th>physical_suck</th>\n",
       "      <th>magic_suck</th>\n",
       "      <th>cooling_reduction</th>\n",
       "      <th>attack_range</th>\n",
       "      <th>toughness</th>\n",
       "      <th>life_recovery</th>\n",
       "      <th>power_recovery</th>\n",
       "    </tr>\n",
       "    <tr>\n",
       "      <th>hero_type</th>\n",
       "      <th></th>\n",
       "      <th></th>\n",
       "      <th></th>\n",
       "      <th></th>\n",
       "      <th></th>\n",
       "      <th></th>\n",
       "      <th></th>\n",
       "      <th></th>\n",
       "      <th></th>\n",
       "      <th></th>\n",
       "      <th></th>\n",
       "      <th></th>\n",
       "      <th></th>\n",
       "      <th></th>\n",
       "      <th></th>\n",
       "      <th></th>\n",
       "      <th></th>\n",
       "      <th></th>\n",
       "      <th></th>\n",
       "      <th></th>\n",
       "      <th></th>\n",
       "      <th></th>\n",
       "    </tr>\n",
       "  </thead>\n",
       "  <tbody>\n",
       "    <tr>\n",
       "      <th>坦克</th>\n",
       "      <th>99</th>\n",
       "      <td>亚瑟</td>\n",
       "      <td>坦克</td>\n",
       "      <td>免费获得</td>\n",
       "      <td>近战,物理</td>\n",
       "      <td>star-7</td>\n",
       "      <td>star-6</td>\n",
       "      <td>star-5</td>\n",
       "      <td>star-3</td>\n",
       "      <td>3622</td>\n",
       "      <td>0</td>\n",
       "      <td>...</td>\n",
       "      <td>0.0</td>\n",
       "      <td>0.0</td>\n",
       "      <td>200%</td>\n",
       "      <td>0</td>\n",
       "      <td>0</td>\n",
       "      <td>0%</td>\n",
       "      <td>近程</td>\n",
       "      <td>0</td>\n",
       "      <td>55</td>\n",
       "      <td>0</td>\n",
       "    </tr>\n",
       "  </tbody>\n",
       "</table>\n",
       "<p>1 rows × 29 columns</p>\n",
       "</div>"
      ],
      "text/plain": [
       "             hero_name hero_type hero_price hero_pos hero_attr_live  \\\n",
       "hero_type                                                             \n",
       "坦克        99        亚瑟        坦克       免费获得    近战,物理         star-7   \n",
       "\n",
       "             hero_attr_attack hero_attr_ability hero_attr_difficulty  \\\n",
       "hero_type                                                              \n",
       "坦克        99           star-6            star-5               star-3   \n",
       "\n",
       "              max_life  max_power  ...  attack_speed  critical_hit  \\\n",
       "hero_type                          ...                               \n",
       "坦克        99      3622          0  ...           0.0           0.0   \n",
       "\n",
       "              critical_effect physical_suck  magic_suck cooling_reduction  \\\n",
       "hero_type                                                                   \n",
       "坦克        99             200%             0           0                0%   \n",
       "\n",
       "              attack_range  toughness  life_recovery  power_recovery  \n",
       "hero_type                                                             \n",
       "坦克        99            近程          0             55               0  \n",
       "\n",
       "[1 rows x 29 columns]"
      ]
     },
     "execution_count": 51,
     "metadata": {},
     "output_type": "execute_result"
    }
   ],
   "source": [
    "# 2. 分组操作，坦克下面基础生命最大的英雄\n",
    "max_life = hero_type_df_groupby.apply(lambda hero: hero[hero['max_life'] == hero['max_life'].max()])\n",
    "max_life[max_life['hero_type'] == '坦克']"
   ]
  },
  {
   "cell_type": "code",
   "execution_count": 86,
   "id": "73f23cea",
   "metadata": {
    "scrolled": true
   },
   "outputs": [
    {
     "data": {
      "text/plain": [
       "hero_name            狂铁\n",
       "physical_attack    1066\n",
       "Name: 25, dtype: object"
      ]
     },
     "execution_count": 86,
     "metadata": {},
     "output_type": "execute_result"
    }
   ],
   "source": [
    "# 3. 基础物理攻击最高的是谁\n",
    "df.iloc[df['physical_attack'].idxmax()][['hero_name', 'physical_attack']]"
   ]
  },
  {
   "cell_type": "code",
   "execution_count": 87,
   "id": "fde0b3cc",
   "metadata": {
    "scrolled": true
   },
   "outputs": [
    {
     "data": {
      "text/plain": [
       "hero_name          弈星\n",
       "magic_attack    159.0\n",
       "Name: 29, dtype: object"
      ]
     },
     "execution_count": 87,
     "metadata": {},
     "output_type": "execute_result"
    }
   ],
   "source": [
    "# 4. 基础法术攻击最高的是谁\n",
    "df.iloc[df['magic_attack'].idxmax()][['hero_name', 'magic_attack']]"
   ]
  },
  {
   "cell_type": "code",
   "execution_count": 89,
   "id": "dcc9a2cd",
   "metadata": {},
   "outputs": [
    {
     "data": {
      "text/plain": [
       "hero_name            庄周\n",
       "physical_defense    150\n",
       "Name: 85, dtype: object"
      ]
     },
     "execution_count": 89,
     "metadata": {},
     "output_type": "execute_result"
    }
   ],
   "source": [
    "# 5. 基础物理防御最高的是谁\n",
    "df.iloc[df['physical_defense'].idxmax()][['hero_name', 'physical_defense']]"
   ]
  },
  {
   "cell_type": "code",
   "execution_count": 91,
   "id": "de7c9a1c",
   "metadata": {},
   "outputs": [
    {
     "data": {
      "text/plain": [
       "hero_name        云缨\n",
       "magic_defense    50\n",
       "Name: 0, dtype: object"
      ]
     },
     "execution_count": 91,
     "metadata": {},
     "output_type": "execute_result"
    }
   ],
   "source": [
    "# 6. 基础法术防御最高的是谁\n",
    "df.iloc[df['magic_defense'].idxmax()]"
   ]
  },
  {
   "cell_type": "code",
   "execution_count": 92,
   "id": "4a7cfac4",
   "metadata": {},
   "outputs": [
    {
     "data": {
      "text/plain": [
       "hero_name      盾山\n",
       "move_speed    530\n",
       "Name: 21, dtype: object"
      ]
     },
     "execution_count": 92,
     "metadata": {},
     "output_type": "execute_result"
    }
   ],
   "source": [
    "# 7. 基础移动速度最高的是谁\n",
    "df.iloc[df['move_speed'].idxmax()][['hero_name', 'move_speed']]"
   ]
  }
 ],
 "metadata": {
  "kernelspec": {
   "display_name": "Python 3 (ipykernel)",
   "language": "python",
   "name": "python3"
  },
  "language_info": {
   "codemirror_mode": {
    "name": "ipython",
    "version": 3
   },
   "file_extension": ".py",
   "mimetype": "text/x-python",
   "name": "python",
   "nbconvert_exporter": "python",
   "pygments_lexer": "ipython3",
   "version": "3.7.3"
  }
 },
 "nbformat": 4,
 "nbformat_minor": 5
}
